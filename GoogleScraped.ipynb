{
  "nbformat": 4,
  "nbformat_minor": 0,
  "metadata": {
    "colab": {
      "name": "GoogleScraped.ipynb",
      "provenance": [],
      "collapsed_sections": [],
      "authorship_tag": "ABX9TyOEsG5WZ/zJ9zZOraWVMBu6",
      "include_colab_link": true
    },
    "kernelspec": {
      "name": "python3",
      "display_name": "Python 3"
    },
    "language_info": {
      "name": "python"
    }
  },
  "cells": [
    {
      "cell_type": "markdown",
      "metadata": {
        "id": "view-in-github",
        "colab_type": "text"
      },
      "source": [
        "<a href=\"https://colab.research.google.com/github/farhananwari07/projectsentiment/blob/main/GoogleScraped.ipynb\" target=\"_parent\"><img src=\"https://colab.research.google.com/assets/colab-badge.svg\" alt=\"Open In Colab\"/></a>"
      ]
    },
    {
      "cell_type": "code",
      "metadata": {
        "colab": {
          "base_uri": "https://localhost:8080/"
        },
        "id": "_0eKoeiAQlOh",
        "outputId": "0d43760e-2bcd-48be-83c7-d49e9fcb5d8a"
      },
      "source": [
        "pip install google-play-scraper"
      ],
      "execution_count": 1,
      "outputs": [
        {
          "output_type": "stream",
          "name": "stdout",
          "text": [
            "Collecting google-play-scraper\n",
            "  Downloading google-play-scraper-1.0.2.tar.gz (52 kB)\n",
            "\u001b[?25l\r\u001b[K     |██████▏                         | 10 kB 18.7 MB/s eta 0:00:01\r\u001b[K     |████████████▍                   | 20 kB 22.6 MB/s eta 0:00:01\r\u001b[K     |██████████████████▋             | 30 kB 28.2 MB/s eta 0:00:01\r\u001b[K     |████████████████████████▉       | 40 kB 23.7 MB/s eta 0:00:01\r\u001b[K     |███████████████████████████████ | 51 kB 8.5 MB/s eta 0:00:01\r\u001b[K     |████████████████████████████████| 52 kB 1.1 MB/s \n",
            "\u001b[?25hBuilding wheels for collected packages: google-play-scraper\n",
            "  Building wheel for google-play-scraper (setup.py) ... \u001b[?25l\u001b[?25hdone\n",
            "  Created wheel for google-play-scraper: filename=google_play_scraper-1.0.2-py3-none-any.whl size=24393 sha256=56b97fc7c32fd5855d748df481bbbc8dbc7b85af63b7a8b980f41e5bc22a808e\n",
            "  Stored in directory: /root/.cache/pip/wheels/98/99/eb/bbb9d24a5c526980647efc10336eaaeffcf07749f581111128\n",
            "Successfully built google-play-scraper\n",
            "Installing collected packages: google-play-scraper\n",
            "Successfully installed google-play-scraper-1.0.2\n"
          ]
        }
      ]
    },
    {
      "cell_type": "code",
      "metadata": {
        "id": "xpZlZ5pkOxdx"
      },
      "source": [
        "import pandas as pd\n",
        "\n",
        "# for scraping app info and reviews from Google Play\n",
        "from google_play_scraper import app, Sort, reviews\n",
        "\n",
        "# for pretty printing data structures\n",
        "from pprint import pprint\n",
        "\n",
        "# for storing in MongoDB\n",
        "import pymongo\n",
        "from pymongo import MongoClient\n",
        "\n",
        "# for keeping track of timing\n",
        "import datetime as dt\n",
        "from tzlocal import get_localzone\n",
        "\n",
        "# for building in wait times\n",
        "import random\n",
        "import time"
      ],
      "execution_count": 2,
      "outputs": []
    },
    {
      "cell_type": "code",
      "metadata": {
        "id": "DLhta1kLQpA9"
      },
      "source": [
        "## Set up Mongo client\n",
        "client = MongoClient(host='localhost', port=27017)\n",
        "\n",
        "## Database for project\n",
        "app_proj_db = client['app_proj_db']\n",
        "\n",
        "## Set up new collection within project db for app info\n",
        "info_collection = app_proj_db['info_collection']\n",
        "\n",
        "## Set up new collection within project db for app reviews\n",
        "review_collection = app_proj_db['review_collection']"
      ],
      "execution_count": 3,
      "outputs": []
    },
    {
      "cell_type": "code",
      "metadata": {
        "id": "WfX9Q4nyQtOA"
      },
      "source": [
        "df = pd.DataFrame({'app_name': [\"Pedulilindungi\"],'android_appID':[\"com.telkom.tracencare\"]})"
      ],
      "execution_count": 9,
      "outputs": []
    },
    {
      "cell_type": "code",
      "metadata": {
        "colab": {
          "base_uri": "https://localhost:8080/",
          "height": 81
        },
        "id": "-RDAnCyBRQV0",
        "outputId": "cfe28ac2-43dc-41a2-c85c-3e28a4d2bafc"
      },
      "source": [
        "df"
      ],
      "execution_count": 10,
      "outputs": [
        {
          "output_type": "execute_result",
          "data": {
            "text/html": [
              "<div>\n",
              "<style scoped>\n",
              "    .dataframe tbody tr th:only-of-type {\n",
              "        vertical-align: middle;\n",
              "    }\n",
              "\n",
              "    .dataframe tbody tr th {\n",
              "        vertical-align: top;\n",
              "    }\n",
              "\n",
              "    .dataframe thead th {\n",
              "        text-align: right;\n",
              "    }\n",
              "</style>\n",
              "<table border=\"1\" class=\"dataframe\">\n",
              "  <thead>\n",
              "    <tr style=\"text-align: right;\">\n",
              "      <th></th>\n",
              "      <th>app_name</th>\n",
              "      <th>android_appID</th>\n",
              "    </tr>\n",
              "  </thead>\n",
              "  <tbody>\n",
              "    <tr>\n",
              "      <th>0</th>\n",
              "      <td>Pedulilindungi</td>\n",
              "      <td>com.telkom.tracencare</td>\n",
              "    </tr>\n",
              "  </tbody>\n",
              "</table>\n",
              "</div>"
            ],
            "text/plain": [
              "         app_name          android_appID\n",
              "0  Pedulilindungi  com.telkom.tracencare"
            ]
          },
          "metadata": {},
          "execution_count": 10
        }
      ]
    },
    {
      "cell_type": "code",
      "metadata": {
        "id": "LHHEeHDHRR1S"
      },
      "source": [
        "app_names = list(df['app_name'])\n",
        "app_ids = list(df['android_appID'])"
      ],
      "execution_count": 11,
      "outputs": []
    },
    {
      "cell_type": "code",
      "metadata": {
        "colab": {
          "base_uri": "https://localhost:8080/"
        },
        "id": "Q_Xid2PzRYJI",
        "outputId": "a1969238-2e13-4455-8bc6-5b7ddf15357d"
      },
      "source": [
        "app_info = []\n",
        "for i in app_ids:\n",
        "    info = app(i)\n",
        "    del info['comments']\n",
        "    app_info.append(info)\n",
        "\n",
        "## Pretty print the data for the first app\n",
        "pprint(app_info[0])"
      ],
      "execution_count": null,
      "outputs": [
        {
          "output_type": "stream",
          "name": "stdout",
          "text": [
            "{'adSupported': None,\n",
            " 'androidVersion': '5.0',\n",
            " 'androidVersionText': '5.0 and up',\n",
            " 'appId': 'com.telkom.tracencare',\n",
            " 'containsAds': False,\n",
            " 'contentRating': 'Everyone',\n",
            " 'contentRatingDescription': None,\n",
            " 'currency': 'USD',\n",
            " 'description': 'PeduliLindungi adalah aplikasi yang dikembangkan untuk '\n",
            "                'menghentikan penularan Coronavirus Disease (COVID-19). '\n",
            "                'Mengandalkan kepedulian serta partisipasi masyarakat untuk '\n",
            "                'saling jaga dan meminimalisir resiko penyebaran COVID-19. \\r\\n'\n",
            "                '\\r\\n'\n",
            "                'Hal ini ditujukan untuk melakukan pengawasan lokasi padat dan '\n",
            "                'ramai yang memiliki resiko tinggi yang nantinya bermanfaat '\n",
            "                'dalam menelusuri riwayat COVID-19 (Contact Tracing). Aplikasi '\n",
            "                'akan mengidentifikasi status riwayat kontak atau kasus '\n",
            "                'Covid-19 pengguna serta status vaksinasinya. Hal ini '\n",
            "                'dilakukan untuk mendukung program penghentian penyebaran '\n",
            "                'COVID-19 yang sedang diusahakan oleh pemerintah.\\r\\n'\n",
            "                '\\r\\n'\n",
            "                'Selain tujuan di atas, aplikasi ini juga dimanfaatkan untuk '\n",
            "                'melakukan pendaftaran vaksinasi, scan QR untuk Check-In/Out '\n",
            "                'dan dokumen perjalanan. Semua terkumpul jadi satu melalui '\n",
            "                'aplikasi PeduliLindungi untuk memudahkan pengguna. \\r\\n'\n",
            "                '\\r\\n'\n",
            "                'Sekecil apapun partisipasi Anda akan sangat berarti untuk '\n",
            "                'menghentikan penularan COVID-19. Harapannya, adanya '\n",
            "                'PeduliLindungi sebagai akses dan media, ditambah dengan '\n",
            "                'partisipasi masyarakat dengan mengunduh dan menggunakan '\n",
            "                'aplikasi ini, Indonesia bisa segera bebas dari COVID-19 dan '\n",
            "                'bangkit kembali. \\r\\n'\n",
            "                '\\r\\n'\n",
            "                '* PeduliLindungi didukung oleh Kementerian Komunikasi dan '\n",
            "                'Informatika, Kementerian Kesehatan, Kementerian BUMN dan '\n",
            "                'Badan Nasional Penanggulangan Bencana.',\n",
            " 'descriptionHTML': 'PeduliLindungi adalah aplikasi yang dikembangkan untuk '\n",
            "                    'menghentikan penularan Coronavirus Disease (COVID-19). '\n",
            "                    'Mengandalkan kepedulian serta partisipasi masyarakat '\n",
            "                    'untuk saling jaga dan meminimalisir resiko penyebaran '\n",
            "                    'COVID-19. <br><br>Hal ini ditujukan untuk melakukan '\n",
            "                    'pengawasan lokasi padat dan ramai yang memiliki resiko '\n",
            "                    'tinggi yang nantinya bermanfaat dalam menelusuri riwayat '\n",
            "                    'COVID-19 (Contact Tracing). Aplikasi akan '\n",
            "                    'mengidentifikasi status riwayat kontak atau kasus '\n",
            "                    'Covid-19 pengguna serta status vaksinasinya. Hal ini '\n",
            "                    'dilakukan untuk mendukung program penghentian penyebaran '\n",
            "                    'COVID-19 yang sedang diusahakan oleh '\n",
            "                    'pemerintah.<br><br>Selain tujuan di atas, aplikasi ini '\n",
            "                    'juga dimanfaatkan untuk melakukan pendaftaran vaksinasi, '\n",
            "                    'scan QR untuk Check-In/Out dan dokumen perjalanan. Semua '\n",
            "                    'terkumpul jadi satu melalui aplikasi PeduliLindungi untuk '\n",
            "                    'memudahkan pengguna. <br><br>Sekecil apapun partisipasi '\n",
            "                    'Anda akan sangat berarti untuk menghentikan penularan '\n",
            "                    'COVID-19. Harapannya, adanya PeduliLindungi sebagai akses '\n",
            "                    'dan media, ditambah dengan partisipasi masyarakat dengan '\n",
            "                    'mengunduh dan menggunakan aplikasi ini, Indonesia bisa '\n",
            "                    'segera bebas dari COVID-19 dan bangkit kembali. <br><br>* '\n",
            "                    'PeduliLindungi didukung oleh Kementerian Komunikasi dan '\n",
            "                    'Informatika, Kementerian Kesehatan, Kementerian BUMN dan '\n",
            "                    'Badan Nasional Penanggulangan Bencana.',\n",
            " 'developer': '© Kementerian Kesehatan',\n",
            " 'developerAddress': None,\n",
            " 'developerEmail': 'pedulilindungi@kominfo.go.id',\n",
            " 'developerId': '7314860221926377334',\n",
            " 'developerInternalID': '7314860221926377334',\n",
            " 'developerWebsite': 'https://www.pedulilindungi.id/',\n",
            " 'editorsChoice': False,\n",
            " 'free': True,\n",
            " 'genre': 'Medical',\n",
            " 'genreId': 'MEDICAL',\n",
            " 'headerImage': 'https://play-lh.googleusercontent.com/BF90FJqUjimNiqiEMO7mFNrP3D6czy2wZ6nEVZG5t3gekitXszr2lbm-cthyIleXzz4',\n",
            " 'histogram': [161577, 29694, 35521, 47359, 308882],\n",
            " 'icon': 'https://play-lh.googleusercontent.com/8ihjhDymV5YuCYebEOyu3nXnuH9Ce3YZfWcI86DPA_KjRkKTyauoPCgqS7tfAkbPqR9X',\n",
            " 'inAppProductPrice': None,\n",
            " 'installs': '10,000,000+',\n",
            " 'minInstalls': 10000000,\n",
            " 'moreByDeveloper': None,\n",
            " 'offersIAP': False,\n",
            " 'originalPrice': None,\n",
            " 'price': 0,\n",
            " 'privacyPolicy': 'https://pedulilindungi.id/kebijakan-privasi-data',\n",
            " 'ratings': 583033,\n",
            " 'recentChanges': 'Untuk meningkatkan fungsi pada aplikasi PeduliLindungi, '\n",
            "                  'kami menambahkan beberapa penyempurnaan seperti: \\r\\n'\n",
            "                  '1. Simplifikasi proses registrasi dan onboarding\\r\\n'\n",
            "                  '2. Memisahkan flow antara Warga Negara Asing & Warga Negara '\n",
            "                  'Indonesia\\r\\n'\n",
            "                  '\\r\\n'\n",
            "                  'Tetap jaga kesehatan & gunakan masker saat bepergian.',\n",
            " 'recentChangesHTML': 'Untuk meningkatkan fungsi pada aplikasi PeduliLindungi, '\n",
            "                      'kami menambahkan beberapa penyempurnaan seperti: <br>1. '\n",
            "                      'Simplifikasi proses registrasi dan onboarding<br>2. '\n",
            "                      'Memisahkan flow antara Warga Negara Asing &amp; Warga '\n",
            "                      'Negara Indonesia<br><br>Tetap jaga kesehatan &amp; '\n",
            "                      'gunakan masker saat bepergian.',\n",
            " 'released': 'Aug 2, 2021',\n",
            " 'reviews': 265648,\n",
            " 'sale': False,\n",
            " 'saleText': None,\n",
            " 'saleTime': None,\n",
            " 'score': 3.5356007,\n",
            " 'screenshots': ['https://play-lh.googleusercontent.com/tXuFwWJn9aNRmuS2utxGIQVIRZ5PEzo_Wb95JWyBSZqsGOt8Hw55NyAKnHzkTVLuP08',\n",
            "                 'https://play-lh.googleusercontent.com/SdP1rLVzOlKib1yER5sWTzdmlGvqvtdrj5mkYKNQerfGHqCsQTOKIJzD7_ygs20-mwdr',\n",
            "                 'https://play-lh.googleusercontent.com/40gByt_rqG986Zc0XE1K-Myr1oQExtq8W7mgtHtuFa742VTqDjBTGXRfpBjiEcFYnsg',\n",
            "                 'https://play-lh.googleusercontent.com/hL6GIuyhTcgBbrrCsM3lew4ymHMfeV9pNdHyr2HJqt_rBGYTlEiv3L6eoxthch3VJlU',\n",
            "                 'https://play-lh.googleusercontent.com/faP1r3WKOF4wVtqBboQg_wt-6CmjkOz-mIuN7iZeHfFMGcJNCbJf7H6_1aRXptRGuIO1',\n",
            "                 'https://play-lh.googleusercontent.com/LnWrVkhj_1ObbplV44x5xnfWTzMMKbswq7HAH60vNzrV86ZRmkk4VweLARYjq7kxHnc',\n",
            "                 'https://play-lh.googleusercontent.com/vPELOe3RccZg7MnoOHGQRR0vvxPzkcSkSnRfCwPKdK0hsGm49ubT0na-BR9EHI3p-xc',\n",
            "                 'https://play-lh.googleusercontent.com/g_3dUMw6qQBXI-yXmI3O82iGF-oSxxdTghrZIm1S_-94urMocnXNVo0X1ZnI7P-_Qa8B',\n",
            "                 'https://play-lh.googleusercontent.com/mbUS60NQ7k_EHCEx_3rPgfkpUy_ynJUDXw82CwOQh9HhbmMrJ1pda7B91hK0YAVvxx95',\n",
            "                 'https://play-lh.googleusercontent.com/jEXE6Dg8-76yenGMSA7JEBTCjPGQUHerboYqIaiaHlxZ71mYrEXkNqa2DQGCjwUk_fs',\n",
            "                 'https://play-lh.googleusercontent.com/jAAH_GnGJGvYl2n1_2Uo5hOrhknnpJW61QRc2KTG-Mvu5V6NGrR1BoSgf6zRioRvQg',\n",
            "                 'https://play-lh.googleusercontent.com/YBhhrxjoaHYHRsZPZS-RzJ6gF2FnYk5jCkN45NOC0MFRul9YbnIBRfmD4jPSiKPnFQ',\n",
            "                 'https://play-lh.googleusercontent.com/-3mEvIWOvKKqAmHh8pd_b3OifV81Bib9ieiZLlC1pFvS9UqMcGja8ybeDJJ5PzadvfA',\n",
            "                 'https://play-lh.googleusercontent.com/9hUHpRG1h35u-YPI_WPoYUt-_xoL0nsXjVUjCh2ys6UD80jwG4ShZPgQtJxQy8NS_9k',\n",
            "                 'https://play-lh.googleusercontent.com/WN3_MCCSnIzbrzsxD9zvePlomEwei5pwiz6bE8hXJkgT7CkwEIJWggDXW7oRocG6JD8'],\n",
            " 'similarApps': ['com.virinchi.mychat',\n",
            "                 'cn.wps.moffice_eng',\n",
            "                 'com.lazada.android',\n",
            "                 'com.grabtaxi.passenger',\n",
            "                 'com.yahoo.mobile.client.android.mail'],\n",
            " 'size': '37M',\n",
            " 'summary': \"Let's care, protect, help stop the spread of Coronavirus Disease \"\n",
            "            '(COVID-19).',\n",
            " 'summaryHTML': 'Let&#39;s care, protect, help stop the spread of Coronavirus '\n",
            "                'Disease (COVID-19).',\n",
            " 'title': 'PeduliLindungi',\n",
            " 'updated': 1634659551,\n",
            " 'url': 'https://play.google.com/store/apps/details?id=com.telkom.tracencare&hl=en&gl=us',\n",
            " 'version': '4.0.2',\n",
            " 'video': None,\n",
            " 'videoImage': None}\n"
          ]
        }
      ]
    },
    {
      "cell_type": "code",
      "metadata": {
        "id": "Er2QZxjOR4Za"
      },
      "source": [
        "rvws, token = reviews(\n",
        "        'com.telkom.tracencare', # app's ID, found in app's url\n",
        "        lang='id',            # defaults to 'en'\n",
        "        country='id',         # defaults to 'us'\n",
        "        sort=Sort.RATING,     # defaults to Sort.MOST_RELEVANT\n",
        "        #filter_score_with=1,   defaults to None (get all scores)\n",
        "        count=606818             # defaults to 100\n",
        "        # , continuation_token=token\n",
        "    )"
      ],
      "execution_count": 26,
      "outputs": []
    },
    {
      "cell_type": "code",
      "metadata": {
        "id": "4fTFTZp4ksjm"
      },
      "source": [
        "#Scraping tanggal 15/11/21 pukul 10.10 Wib"
      ],
      "execution_count": null,
      "outputs": []
    },
    {
      "cell_type": "code",
      "metadata": {
        "colab": {
          "base_uri": "https://localhost:8080/"
        },
        "id": "ZyyQhlu6Znax",
        "outputId": "e3a39945-e1e9-463b-a01f-686a412227cc"
      },
      "source": [
        "rvws[9999]"
      ],
      "execution_count": 14,
      "outputs": [
        {
          "output_type": "execute_result",
          "data": {
            "text/plain": [
              "{'at': datetime.datetime(2021, 9, 8, 3, 58, 46),\n",
              " 'content': 'Error error error',\n",
              " 'repliedAt': datetime.datetime(2021, 9, 22, 8, 35),\n",
              " 'replyContent': 'Halo Yoshi,\\n\\nSebelumnya kami mohon maaf atas ketidaknyamanan Anda dalam menggunakan aplikasi PeduliLindungi.\\nTerkait permasalahan yang berkaitan dengan aplikasi, Anda dapat menghubungi kami melalui email pedulilindungi@kominfo.go.id.\\n\\nMohon lampirkan juga capture/screenshot dari kendala yang Anda temukan.\\n\\nTerima kasih\\n\\nStay Healthy',\n",
              " 'reviewCreatedVersion': '3.4.5',\n",
              " 'reviewId': 'gp:AOqpTOFYEiNcrQ0JvH4CveINOhRZl7pmip7qXi_BnXpDNvm5rriLdAgv2jB9D3ywgdxXVeD0WDVVJczx2P_n1Wk',\n",
              " 'score': 1,\n",
              " 'thumbsUpCount': 1,\n",
              " 'userImage': 'https://play-lh.googleusercontent.com/a-/AOh14GhypvPQWD5Rw4rLbFQv1wdZr0FQJOWeP5W3HHFHyA',\n",
              " 'userName': 'yoshi rompas'}"
            ]
          },
          "metadata": {},
          "execution_count": 14
        }
      ]
    },
    {
      "cell_type": "code",
      "metadata": {
        "id": "moWxxQdyiABM"
      },
      "source": [
        "import numpy as np\n"
      ],
      "execution_count": 16,
      "outputs": []
    },
    {
      "cell_type": "code",
      "metadata": {
        "id": "VFx8fM_xpwm-"
      },
      "source": [
        "df_busu = pd.DataFrame(np.array(rvws),columns=['review'])\n",
        "\n",
        "\n",
        "df_busu = df_busu.join(pd.DataFrame(df_busu.pop('review').tolist()))"
      ],
      "execution_count": 27,
      "outputs": []
    },
    {
      "cell_type": "code",
      "metadata": {
        "colab": {
          "base_uri": "https://localhost:8080/"
        },
        "id": "LERU-3ZHp6Uv",
        "outputId": "2ea415d6-db89-450b-fe3c-96433cac2fd8"
      },
      "source": [
        "df_busu.shape"
      ],
      "execution_count": 28,
      "outputs": [
        {
          "output_type": "execute_result",
          "data": {
            "text/plain": [
              "(238212, 10)"
            ]
          },
          "metadata": {},
          "execution_count": 28
        }
      ]
    },
    {
      "cell_type": "code",
      "metadata": {
        "colab": {
          "base_uri": "https://localhost:8080/",
          "height": 930
        },
        "id": "bq0hhFRLkJPw",
        "outputId": "ec2098a1-470a-4f50-a528-71db7c1ba698"
      },
      "source": [
        "df_busu"
      ],
      "execution_count": 29,
      "outputs": [
        {
          "output_type": "execute_result",
          "data": {
            "text/html": [
              "<div>\n",
              "<style scoped>\n",
              "    .dataframe tbody tr th:only-of-type {\n",
              "        vertical-align: middle;\n",
              "    }\n",
              "\n",
              "    .dataframe tbody tr th {\n",
              "        vertical-align: top;\n",
              "    }\n",
              "\n",
              "    .dataframe thead th {\n",
              "        text-align: right;\n",
              "    }\n",
              "</style>\n",
              "<table border=\"1\" class=\"dataframe\">\n",
              "  <thead>\n",
              "    <tr style=\"text-align: right;\">\n",
              "      <th></th>\n",
              "      <th>reviewId</th>\n",
              "      <th>userName</th>\n",
              "      <th>userImage</th>\n",
              "      <th>content</th>\n",
              "      <th>score</th>\n",
              "      <th>thumbsUpCount</th>\n",
              "      <th>reviewCreatedVersion</th>\n",
              "      <th>at</th>\n",
              "      <th>replyContent</th>\n",
              "      <th>repliedAt</th>\n",
              "    </tr>\n",
              "  </thead>\n",
              "  <tbody>\n",
              "    <tr>\n",
              "      <th>0</th>\n",
              "      <td>gp:AOqpTOFfphzch1XgdF8e9EK4CzCguIKqBktyIJzPJLc...</td>\n",
              "      <td>Laia_ Tema</td>\n",
              "      <td>https://play-lh.googleusercontent.com/a-/AOh14...</td>\n",
              "      <td>Sangat bagus</td>\n",
              "      <td>5</td>\n",
              "      <td>0</td>\n",
              "      <td>3.4.5</td>\n",
              "      <td>2021-10-01 12:14:13</td>\n",
              "      <td>None</td>\n",
              "      <td>NaT</td>\n",
              "    </tr>\n",
              "    <tr>\n",
              "      <th>1</th>\n",
              "      <td>gp:AOqpTOGRPeCwZ5DUVk0vt0DcG6DXxw6Z9vmSK8qtkzv...</td>\n",
              "      <td>HENDRA WIJANTO</td>\n",
              "      <td>https://play-lh.googleusercontent.com/a-/AOh14...</td>\n",
              "      <td>Good 👍</td>\n",
              "      <td>5</td>\n",
              "      <td>0</td>\n",
              "      <td>3.4.4</td>\n",
              "      <td>2021-09-04 01:47:26</td>\n",
              "      <td>None</td>\n",
              "      <td>NaT</td>\n",
              "    </tr>\n",
              "    <tr>\n",
              "      <th>2</th>\n",
              "      <td>gp:AOqpTOGKNInad_Bv_h6xygAs2PTI05cVhlYfxoi6QF9...</td>\n",
              "      <td>Asep Juniansyah</td>\n",
              "      <td>https://play-lh.googleusercontent.com/a/AATXAJ...</td>\n",
              "      <td>Mantabz</td>\n",
              "      <td>5</td>\n",
              "      <td>0</td>\n",
              "      <td>3.4.4</td>\n",
              "      <td>2021-09-06 09:59:18</td>\n",
              "      <td>None</td>\n",
              "      <td>NaT</td>\n",
              "    </tr>\n",
              "    <tr>\n",
              "      <th>3</th>\n",
              "      <td>gp:AOqpTOF7iUyKD_lTvZxou-dyZvPnNkoD9s_dX6s8Dei...</td>\n",
              "      <td>margo mulyo</td>\n",
              "      <td>https://play-lh.googleusercontent.com/a-/AOh14...</td>\n",
              "      <td>Ok bgt</td>\n",
              "      <td>5</td>\n",
              "      <td>0</td>\n",
              "      <td>3.2.6</td>\n",
              "      <td>2021-07-13 15:35:46</td>\n",
              "      <td>\"Halo Kaka,\\n\\nTerima kasih atas dukungan Anda...</td>\n",
              "      <td>2021-07-16 03:25:16</td>\n",
              "    </tr>\n",
              "    <tr>\n",
              "      <th>4</th>\n",
              "      <td>gp:AOqpTOFgQl481dULViihqlD20lBHW0sh2B8goX9DrA9...</td>\n",
              "      <td>Oyo Wrsy</td>\n",
              "      <td>https://play-lh.googleusercontent.com/a-/AOh14...</td>\n",
              "      <td>Pengisian taggal lahir terlalu ribet jadi agak...</td>\n",
              "      <td>5</td>\n",
              "      <td>0</td>\n",
              "      <td>3.4.5</td>\n",
              "      <td>2021-09-13 01:04:10</td>\n",
              "      <td>None</td>\n",
              "      <td>NaT</td>\n",
              "    </tr>\n",
              "    <tr>\n",
              "      <th>...</th>\n",
              "      <td>...</td>\n",
              "      <td>...</td>\n",
              "      <td>...</td>\n",
              "      <td>...</td>\n",
              "      <td>...</td>\n",
              "      <td>...</td>\n",
              "      <td>...</td>\n",
              "      <td>...</td>\n",
              "      <td>...</td>\n",
              "      <td>...</td>\n",
              "    </tr>\n",
              "    <tr>\n",
              "      <th>238207</th>\n",
              "      <td>gp:AOqpTOHIHPdxNEaXm-ba1WuMJOBCg9I88gewwqf-yDt...</td>\n",
              "      <td>Akangtop Tea</td>\n",
              "      <td>https://play-lh.googleusercontent.com/a/AATXAJ...</td>\n",
              "      <td>Gara2 di update GK bisa masuk lgi gimana ini a...</td>\n",
              "      <td>1</td>\n",
              "      <td>0</td>\n",
              "      <td>4.0.2</td>\n",
              "      <td>2021-11-14 13:31:22</td>\n",
              "      <td>None</td>\n",
              "      <td>NaT</td>\n",
              "    </tr>\n",
              "    <tr>\n",
              "      <th>238208</th>\n",
              "      <td>gp:AOqpTOHEptxvdwrfuIG8-3nYWC3i35IBCWaQgs9SgOZ...</td>\n",
              "      <td>Kikis Maulana</td>\n",
              "      <td>https://play-lh.googleusercontent.com/a-/AOh14...</td>\n",
              "      <td>Udah vaksin ke dua tapi kok sertifikatnya gak ...</td>\n",
              "      <td>1</td>\n",
              "      <td>0</td>\n",
              "      <td>4.0.2</td>\n",
              "      <td>2021-11-14 13:31:48</td>\n",
              "      <td>None</td>\n",
              "      <td>NaT</td>\n",
              "    </tr>\n",
              "    <tr>\n",
              "      <th>238209</th>\n",
              "      <td>gp:AOqpTOFD6yh1_GBw6OsSWVuJuhhS6sPwo1hcbczdDuX...</td>\n",
              "      <td>Biyan Biyan</td>\n",
              "      <td>https://play-lh.googleusercontent.com/a-/AOh14...</td>\n",
              "      <td>Ga semua android suport???</td>\n",
              "      <td>1</td>\n",
              "      <td>0</td>\n",
              "      <td>None</td>\n",
              "      <td>2021-11-14 15:08:37</td>\n",
              "      <td>Halo Kak,\\n\\nKami mohon maaf atas ketidaknyama...</td>\n",
              "      <td>2021-11-15 02:51:06</td>\n",
              "    </tr>\n",
              "    <tr>\n",
              "      <th>238210</th>\n",
              "      <td>gp:AOqpTOGOGERELmj988l4ZNdyVCBqn996gAtPapVbpny...</td>\n",
              "      <td>Hadi Siswono</td>\n",
              "      <td>https://play-lh.googleusercontent.com/a-/AOh14...</td>\n",
              "      <td>Kenapa data ku hitam. Padahal sudah sweb</td>\n",
              "      <td>1</td>\n",
              "      <td>0</td>\n",
              "      <td>4.0.2</td>\n",
              "      <td>2021-11-14 16:31:28</td>\n",
              "      <td>Halo Hadi,\\n\\nMohon maaf atas ketidaknyamanann...</td>\n",
              "      <td>2021-11-15 01:40:12</td>\n",
              "    </tr>\n",
              "    <tr>\n",
              "      <th>238211</th>\n",
              "      <td>gp:AOqpTOHqsvsqRLsXhlAlTEPMoa3KoYyiWJBcuTmPoZu...</td>\n",
              "      <td>Abdul Rokhman</td>\n",
              "      <td>https://play-lh.googleusercontent.com/a/AATXAJ...</td>\n",
              "      <td>sering error &amp; susah di klik pada android oppo</td>\n",
              "      <td>1</td>\n",
              "      <td>0</td>\n",
              "      <td>4.0.2</td>\n",
              "      <td>2021-11-15 01:12:56</td>\n",
              "      <td>None</td>\n",
              "      <td>NaT</td>\n",
              "    </tr>\n",
              "  </tbody>\n",
              "</table>\n",
              "<p>238212 rows × 10 columns</p>\n",
              "</div>"
            ],
            "text/plain": [
              "                                                 reviewId  ...           repliedAt\n",
              "0       gp:AOqpTOFfphzch1XgdF8e9EK4CzCguIKqBktyIJzPJLc...  ...                 NaT\n",
              "1       gp:AOqpTOGRPeCwZ5DUVk0vt0DcG6DXxw6Z9vmSK8qtkzv...  ...                 NaT\n",
              "2       gp:AOqpTOGKNInad_Bv_h6xygAs2PTI05cVhlYfxoi6QF9...  ...                 NaT\n",
              "3       gp:AOqpTOF7iUyKD_lTvZxou-dyZvPnNkoD9s_dX6s8Dei...  ... 2021-07-16 03:25:16\n",
              "4       gp:AOqpTOFgQl481dULViihqlD20lBHW0sh2B8goX9DrA9...  ...                 NaT\n",
              "...                                                   ...  ...                 ...\n",
              "238207  gp:AOqpTOHIHPdxNEaXm-ba1WuMJOBCg9I88gewwqf-yDt...  ...                 NaT\n",
              "238208  gp:AOqpTOHEptxvdwrfuIG8-3nYWC3i35IBCWaQgs9SgOZ...  ...                 NaT\n",
              "238209  gp:AOqpTOFD6yh1_GBw6OsSWVuJuhhS6sPwo1hcbczdDuX...  ... 2021-11-15 02:51:06\n",
              "238210  gp:AOqpTOGOGERELmj988l4ZNdyVCBqn996gAtPapVbpny...  ... 2021-11-15 01:40:12\n",
              "238211  gp:AOqpTOHqsvsqRLsXhlAlTEPMoa3KoYyiWJBcuTmPoZu...  ...                 NaT\n",
              "\n",
              "[238212 rows x 10 columns]"
            ]
          },
          "metadata": {},
          "execution_count": 29
        }
      ]
    },
    {
      "cell_type": "code",
      "metadata": {
        "id": "u2uv5dfRimRj"
      },
      "source": [
        "del df_busu"
      ],
      "execution_count": 25,
      "outputs": []
    },
    {
      "cell_type": "code",
      "metadata": {
        "id": "OK-fqpKgnEP-"
      },
      "source": [
        "df_busu.to_csv('pedulilindungi.csv', index=False)"
      ],
      "execution_count": 31,
      "outputs": []
    }
  ]
}